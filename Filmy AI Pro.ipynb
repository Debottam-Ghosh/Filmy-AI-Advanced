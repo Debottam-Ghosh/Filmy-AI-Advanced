{
 "cells": [
  {
   "cell_type": "markdown",
   "id": "feda7cc0-2285-49a3-bd8c-31559b712510",
   "metadata": {},
   "source": [
    "### Importing Initial Libraries"
   ]
  },
  {
   "cell_type": "code",
   "execution_count": 433,
   "id": "eef21407-d874-4af1-b780-615018101f20",
   "metadata": {},
   "outputs": [],
   "source": [
    "import numpy as np\n",
    "import pandas as pd"
   ]
  },
  {
   "cell_type": "markdown",
   "id": "5640cff7-a9bc-4cb5-992c-6900497566df",
   "metadata": {},
   "source": [
    "### Reading and Viewing CSV Files"
   ]
  },
  {
   "cell_type": "code",
   "execution_count": 435,
   "id": "649788f2-86d8-4f8b-b3e9-7bca4ae7d50f",
   "metadata": {},
   "outputs": [
    {
     "data": {
      "text/html": [
       "<div>\n",
       "<style scoped>\n",
       "    .dataframe tbody tr th:only-of-type {\n",
       "        vertical-align: middle;\n",
       "    }\n",
       "\n",
       "    .dataframe tbody tr th {\n",
       "        vertical-align: top;\n",
       "    }\n",
       "\n",
       "    .dataframe thead th {\n",
       "        text-align: right;\n",
       "    }\n",
       "</style>\n",
       "<table border=\"1\" class=\"dataframe\">\n",
       "  <thead>\n",
       "    <tr style=\"text-align: right;\">\n",
       "      <th></th>\n",
       "      <th>color</th>\n",
       "      <th>director_name</th>\n",
       "      <th>num_critic_for_reviews</th>\n",
       "      <th>duration</th>\n",
       "      <th>director_facebook_likes</th>\n",
       "      <th>actor_3_facebook_likes</th>\n",
       "      <th>actor_2_name</th>\n",
       "      <th>actor_1_facebook_likes</th>\n",
       "      <th>gross</th>\n",
       "      <th>genres</th>\n",
       "      <th>...</th>\n",
       "      <th>num_user_for_reviews</th>\n",
       "      <th>language</th>\n",
       "      <th>country</th>\n",
       "      <th>content_rating</th>\n",
       "      <th>budget</th>\n",
       "      <th>title_year</th>\n",
       "      <th>actor_2_facebook_likes</th>\n",
       "      <th>imdb_score</th>\n",
       "      <th>aspect_ratio</th>\n",
       "      <th>movie_facebook_likes</th>\n",
       "    </tr>\n",
       "  </thead>\n",
       "  <tbody>\n",
       "    <tr>\n",
       "      <th>0</th>\n",
       "      <td>Color</td>\n",
       "      <td>James Cameron</td>\n",
       "      <td>723.0</td>\n",
       "      <td>178.0</td>\n",
       "      <td>0.0</td>\n",
       "      <td>855.0</td>\n",
       "      <td>Joel David Moore</td>\n",
       "      <td>1000.0</td>\n",
       "      <td>760505847.0</td>\n",
       "      <td>Action|Adventure|Fantasy|Sci-Fi</td>\n",
       "      <td>...</td>\n",
       "      <td>3054.0</td>\n",
       "      <td>English</td>\n",
       "      <td>USA</td>\n",
       "      <td>PG-13</td>\n",
       "      <td>237000000.0</td>\n",
       "      <td>2009.0</td>\n",
       "      <td>936.0</td>\n",
       "      <td>7.9</td>\n",
       "      <td>1.78</td>\n",
       "      <td>33000</td>\n",
       "    </tr>\n",
       "    <tr>\n",
       "      <th>1</th>\n",
       "      <td>Color</td>\n",
       "      <td>Gore Verbinski</td>\n",
       "      <td>302.0</td>\n",
       "      <td>169.0</td>\n",
       "      <td>563.0</td>\n",
       "      <td>1000.0</td>\n",
       "      <td>Orlando Bloom</td>\n",
       "      <td>40000.0</td>\n",
       "      <td>309404152.0</td>\n",
       "      <td>Action|Adventure|Fantasy</td>\n",
       "      <td>...</td>\n",
       "      <td>1238.0</td>\n",
       "      <td>English</td>\n",
       "      <td>USA</td>\n",
       "      <td>PG-13</td>\n",
       "      <td>300000000.0</td>\n",
       "      <td>2007.0</td>\n",
       "      <td>5000.0</td>\n",
       "      <td>7.1</td>\n",
       "      <td>2.35</td>\n",
       "      <td>0</td>\n",
       "    </tr>\n",
       "    <tr>\n",
       "      <th>2</th>\n",
       "      <td>Color</td>\n",
       "      <td>Sam Mendes</td>\n",
       "      <td>602.0</td>\n",
       "      <td>148.0</td>\n",
       "      <td>0.0</td>\n",
       "      <td>161.0</td>\n",
       "      <td>Rory Kinnear</td>\n",
       "      <td>11000.0</td>\n",
       "      <td>200074175.0</td>\n",
       "      <td>Action|Adventure|Thriller</td>\n",
       "      <td>...</td>\n",
       "      <td>994.0</td>\n",
       "      <td>English</td>\n",
       "      <td>UK</td>\n",
       "      <td>PG-13</td>\n",
       "      <td>245000000.0</td>\n",
       "      <td>2015.0</td>\n",
       "      <td>393.0</td>\n",
       "      <td>6.8</td>\n",
       "      <td>2.35</td>\n",
       "      <td>85000</td>\n",
       "    </tr>\n",
       "    <tr>\n",
       "      <th>3</th>\n",
       "      <td>Color</td>\n",
       "      <td>Christopher Nolan</td>\n",
       "      <td>813.0</td>\n",
       "      <td>164.0</td>\n",
       "      <td>22000.0</td>\n",
       "      <td>23000.0</td>\n",
       "      <td>Christian Bale</td>\n",
       "      <td>27000.0</td>\n",
       "      <td>448130642.0</td>\n",
       "      <td>Action|Thriller</td>\n",
       "      <td>...</td>\n",
       "      <td>2701.0</td>\n",
       "      <td>English</td>\n",
       "      <td>USA</td>\n",
       "      <td>PG-13</td>\n",
       "      <td>250000000.0</td>\n",
       "      <td>2012.0</td>\n",
       "      <td>23000.0</td>\n",
       "      <td>8.5</td>\n",
       "      <td>2.35</td>\n",
       "      <td>164000</td>\n",
       "    </tr>\n",
       "    <tr>\n",
       "      <th>4</th>\n",
       "      <td>NaN</td>\n",
       "      <td>Doug Walker</td>\n",
       "      <td>NaN</td>\n",
       "      <td>NaN</td>\n",
       "      <td>131.0</td>\n",
       "      <td>NaN</td>\n",
       "      <td>Rob Walker</td>\n",
       "      <td>131.0</td>\n",
       "      <td>NaN</td>\n",
       "      <td>Documentary</td>\n",
       "      <td>...</td>\n",
       "      <td>NaN</td>\n",
       "      <td>NaN</td>\n",
       "      <td>NaN</td>\n",
       "      <td>NaN</td>\n",
       "      <td>NaN</td>\n",
       "      <td>NaN</td>\n",
       "      <td>12.0</td>\n",
       "      <td>7.1</td>\n",
       "      <td>NaN</td>\n",
       "      <td>0</td>\n",
       "    </tr>\n",
       "  </tbody>\n",
       "</table>\n",
       "<p>5 rows × 28 columns</p>\n",
       "</div>"
      ],
      "text/plain": [
       "   color      director_name  num_critic_for_reviews  duration  \\\n",
       "0  Color      James Cameron                   723.0     178.0   \n",
       "1  Color     Gore Verbinski                   302.0     169.0   \n",
       "2  Color         Sam Mendes                   602.0     148.0   \n",
       "3  Color  Christopher Nolan                   813.0     164.0   \n",
       "4    NaN        Doug Walker                     NaN       NaN   \n",
       "\n",
       "   director_facebook_likes  actor_3_facebook_likes      actor_2_name  \\\n",
       "0                      0.0                   855.0  Joel David Moore   \n",
       "1                    563.0                  1000.0     Orlando Bloom   \n",
       "2                      0.0                   161.0      Rory Kinnear   \n",
       "3                  22000.0                 23000.0    Christian Bale   \n",
       "4                    131.0                     NaN        Rob Walker   \n",
       "\n",
       "   actor_1_facebook_likes        gross                           genres  ...  \\\n",
       "0                  1000.0  760505847.0  Action|Adventure|Fantasy|Sci-Fi  ...   \n",
       "1                 40000.0  309404152.0         Action|Adventure|Fantasy  ...   \n",
       "2                 11000.0  200074175.0        Action|Adventure|Thriller  ...   \n",
       "3                 27000.0  448130642.0                  Action|Thriller  ...   \n",
       "4                   131.0          NaN                      Documentary  ...   \n",
       "\n",
       "  num_user_for_reviews language  country  content_rating       budget  \\\n",
       "0               3054.0  English      USA           PG-13  237000000.0   \n",
       "1               1238.0  English      USA           PG-13  300000000.0   \n",
       "2                994.0  English       UK           PG-13  245000000.0   \n",
       "3               2701.0  English      USA           PG-13  250000000.0   \n",
       "4                  NaN      NaN      NaN             NaN          NaN   \n",
       "\n",
       "   title_year actor_2_facebook_likes imdb_score  aspect_ratio  \\\n",
       "0      2009.0                  936.0        7.9          1.78   \n",
       "1      2007.0                 5000.0        7.1          2.35   \n",
       "2      2015.0                  393.0        6.8          2.35   \n",
       "3      2012.0                23000.0        8.5          2.35   \n",
       "4         NaN                   12.0        7.1           NaN   \n",
       "\n",
       "  movie_facebook_likes  \n",
       "0                33000  \n",
       "1                    0  \n",
       "2                85000  \n",
       "3               164000  \n",
       "4                    0  \n",
       "\n",
       "[5 rows x 28 columns]"
      ]
     },
     "execution_count": 435,
     "metadata": {},
     "output_type": "execute_result"
    }
   ],
   "source": [
    "movies = pd.read_csv(\"movie_metadata.csv\")\n",
    "movies.head()"
   ]
  },
  {
   "cell_type": "code",
   "execution_count": 436,
   "id": "82865d9e-d667-4aac-91ea-b4d03029d9d4",
   "metadata": {},
   "outputs": [
    {
     "data": {
      "text/plain": [
       "(5043, 28)"
      ]
     },
     "execution_count": 436,
     "metadata": {},
     "output_type": "execute_result"
    }
   ],
   "source": [
    "movies.shape"
   ]
  },
  {
   "cell_type": "markdown",
   "id": "1d2d46df-cb3e-4c49-a7d9-804b91bcbba6",
   "metadata": {},
   "source": [
    "## ★ Pre Processing"
   ]
  },
  {
   "cell_type": "markdown",
   "id": "9e51014a-86ab-429e-800b-200ffe424896",
   "metadata": {},
   "source": [
    "##### Columns we don't need:\n",
    "**1.** color &nbsp;&nbsp;&nbsp; **2**. director_facebook_likes &nbsp;&nbsp;&nbsp; **3**. actor_3_facebook_likes &nbsp;&nbsp;&nbsp; **4.** actor_1_facebook_likes &nbsp;&nbsp;&nbsp; **5.** num_critic_for_reviews **6.** cast_total_facebook_likes &nbsp;&nbsp;&nbsp; **7.** facenumber_in_poster &nbsp;&nbsp;&nbsp; **8.** num_user_for_reviews &nbsp;&nbsp;&nbsp; **9.** country &nbsp;&nbsp;&nbsp; **10**. budget &nbsp;&nbsp;&nbsp; <br> **11.** actor_2_facebook_likes &nbsp;&nbsp;&nbsp; **12.** aspect_ratio &nbsp;&nbsp;&nbsp; **13.** movie_facebook_likes"
   ]
  },
  {
   "cell_type": "code",
   "execution_count": 439,
   "id": "1334beb7-5817-46ea-a7b1-4c2724a31ab0",
   "metadata": {},
   "outputs": [
    {
     "data": {
      "text/html": [
       "<div>\n",
       "<style scoped>\n",
       "    .dataframe tbody tr th:only-of-type {\n",
       "        vertical-align: middle;\n",
       "    }\n",
       "\n",
       "    .dataframe tbody tr th {\n",
       "        vertical-align: top;\n",
       "    }\n",
       "\n",
       "    .dataframe thead th {\n",
       "        text-align: right;\n",
       "    }\n",
       "</style>\n",
       "<table border=\"1\" class=\"dataframe\">\n",
       "  <thead>\n",
       "    <tr style=\"text-align: right;\">\n",
       "      <th></th>\n",
       "      <th>director_name</th>\n",
       "      <th>duration</th>\n",
       "      <th>actor_2_name</th>\n",
       "      <th>gross</th>\n",
       "      <th>genres</th>\n",
       "      <th>actor_1_name</th>\n",
       "      <th>movie_title</th>\n",
       "      <th>num_voted_users</th>\n",
       "      <th>actor_3_name</th>\n",
       "      <th>plot_keywords</th>\n",
       "      <th>movie_imdb_link</th>\n",
       "      <th>language</th>\n",
       "      <th>content_rating</th>\n",
       "      <th>title_year</th>\n",
       "      <th>imdb_score</th>\n",
       "    </tr>\n",
       "  </thead>\n",
       "  <tbody>\n",
       "    <tr>\n",
       "      <th>0</th>\n",
       "      <td>James Cameron</td>\n",
       "      <td>178.0</td>\n",
       "      <td>Joel David Moore</td>\n",
       "      <td>760505847.0</td>\n",
       "      <td>Action|Adventure|Fantasy|Sci-Fi</td>\n",
       "      <td>NaN</td>\n",
       "      <td>Avatar</td>\n",
       "      <td>886204</td>\n",
       "      <td>Wes Studi</td>\n",
       "      <td>avatar|future|marine|native|paraplegic</td>\n",
       "      <td>http://www.imdb.com/title/tt0499549/?ref_=fn_t...</td>\n",
       "      <td>English</td>\n",
       "      <td>PG-13</td>\n",
       "      <td>2009.0</td>\n",
       "      <td>7.9</td>\n",
       "    </tr>\n",
       "    <tr>\n",
       "      <th>1</th>\n",
       "      <td>Gore Verbinski</td>\n",
       "      <td>169.0</td>\n",
       "      <td>Orlando Bloom</td>\n",
       "      <td>309404152.0</td>\n",
       "      <td>Action|Adventure|Fantasy</td>\n",
       "      <td>Johnny Depp</td>\n",
       "      <td>Pirates of the Caribbean: At World's End</td>\n",
       "      <td>471220</td>\n",
       "      <td>Jack Davenport</td>\n",
       "      <td>goddess|marriage ceremony|marriage proposal|pi...</td>\n",
       "      <td>http://www.imdb.com/title/tt0449088/?ref_=fn_t...</td>\n",
       "      <td>English</td>\n",
       "      <td>PG-13</td>\n",
       "      <td>2007.0</td>\n",
       "      <td>7.1</td>\n",
       "    </tr>\n",
       "    <tr>\n",
       "      <th>2</th>\n",
       "      <td>Sam Mendes</td>\n",
       "      <td>148.0</td>\n",
       "      <td>Rory Kinnear</td>\n",
       "      <td>200074175.0</td>\n",
       "      <td>Action|Adventure|Thriller</td>\n",
       "      <td>Christoph Waltz</td>\n",
       "      <td>Spectre</td>\n",
       "      <td>275868</td>\n",
       "      <td>Stephanie Sigman</td>\n",
       "      <td>bomb|espionage|sequel|spy|terrorist</td>\n",
       "      <td>http://www.imdb.com/title/tt2379713/?ref_=fn_t...</td>\n",
       "      <td>English</td>\n",
       "      <td>PG-13</td>\n",
       "      <td>2015.0</td>\n",
       "      <td>6.8</td>\n",
       "    </tr>\n",
       "    <tr>\n",
       "      <th>3</th>\n",
       "      <td>Christopher Nolan</td>\n",
       "      <td>164.0</td>\n",
       "      <td>Christian Bale</td>\n",
       "      <td>448130642.0</td>\n",
       "      <td>Action|Thriller</td>\n",
       "      <td>Tom Hardy</td>\n",
       "      <td>The Dark Knight Rises</td>\n",
       "      <td>1144337</td>\n",
       "      <td>Joseph Gordon-Levitt</td>\n",
       "      <td>deception|imprisonment|lawlessness|police offi...</td>\n",
       "      <td>http://www.imdb.com/title/tt1345836/?ref_=fn_t...</td>\n",
       "      <td>English</td>\n",
       "      <td>PG-13</td>\n",
       "      <td>2012.0</td>\n",
       "      <td>8.5</td>\n",
       "    </tr>\n",
       "    <tr>\n",
       "      <th>4</th>\n",
       "      <td>Doug Walker</td>\n",
       "      <td>NaN</td>\n",
       "      <td>Rob Walker</td>\n",
       "      <td>NaN</td>\n",
       "      <td>Documentary</td>\n",
       "      <td>Doug Walker</td>\n",
       "      <td>Star Wars: Episode VII - The Force Awakens    ...</td>\n",
       "      <td>8</td>\n",
       "      <td>NaN</td>\n",
       "      <td>NaN</td>\n",
       "      <td>http://www.imdb.com/title/tt5289954/?ref_=fn_t...</td>\n",
       "      <td>NaN</td>\n",
       "      <td>NaN</td>\n",
       "      <td>NaN</td>\n",
       "      <td>7.1</td>\n",
       "    </tr>\n",
       "  </tbody>\n",
       "</table>\n",
       "</div>"
      ],
      "text/plain": [
       "       director_name  duration      actor_2_name        gross  \\\n",
       "0      James Cameron     178.0  Joel David Moore  760505847.0   \n",
       "1     Gore Verbinski     169.0     Orlando Bloom  309404152.0   \n",
       "2         Sam Mendes     148.0      Rory Kinnear  200074175.0   \n",
       "3  Christopher Nolan     164.0    Christian Bale  448130642.0   \n",
       "4        Doug Walker       NaN        Rob Walker          NaN   \n",
       "\n",
       "                            genres     actor_1_name  \\\n",
       "0  Action|Adventure|Fantasy|Sci-Fi              NaN   \n",
       "1         Action|Adventure|Fantasy      Johnny Depp   \n",
       "2        Action|Adventure|Thriller  Christoph Waltz   \n",
       "3                  Action|Thriller        Tom Hardy   \n",
       "4                      Documentary      Doug Walker   \n",
       "\n",
       "                                         movie_title  num_voted_users  \\\n",
       "0                                            Avatar            886204   \n",
       "1          Pirates of the Caribbean: At World's End            471220   \n",
       "2                                           Spectre            275868   \n",
       "3                             The Dark Knight Rises           1144337   \n",
       "4  Star Wars: Episode VII - The Force Awakens    ...                8   \n",
       "\n",
       "           actor_3_name                                      plot_keywords  \\\n",
       "0             Wes Studi             avatar|future|marine|native|paraplegic   \n",
       "1        Jack Davenport  goddess|marriage ceremony|marriage proposal|pi...   \n",
       "2      Stephanie Sigman                bomb|espionage|sequel|spy|terrorist   \n",
       "3  Joseph Gordon-Levitt  deception|imprisonment|lawlessness|police offi...   \n",
       "4                   NaN                                                NaN   \n",
       "\n",
       "                                     movie_imdb_link language content_rating  \\\n",
       "0  http://www.imdb.com/title/tt0499549/?ref_=fn_t...  English          PG-13   \n",
       "1  http://www.imdb.com/title/tt0449088/?ref_=fn_t...  English          PG-13   \n",
       "2  http://www.imdb.com/title/tt2379713/?ref_=fn_t...  English          PG-13   \n",
       "3  http://www.imdb.com/title/tt1345836/?ref_=fn_t...  English          PG-13   \n",
       "4  http://www.imdb.com/title/tt5289954/?ref_=fn_t...      NaN            NaN   \n",
       "\n",
       "   title_year  imdb_score  \n",
       "0      2009.0         7.9  \n",
       "1      2007.0         7.1  \n",
       "2      2015.0         6.8  \n",
       "3      2012.0         8.5  \n",
       "4         NaN         7.1  "
      ]
     },
     "execution_count": 439,
     "metadata": {},
     "output_type": "execute_result"
    }
   ],
   "source": [
    "movies.drop(['color', 'director_facebook_likes', 'actor_3_facebook_likes', 'actor_1_facebook_likes', 'num_critic_for_reviews', 'cast_total_facebook_likes', 'facenumber_in_poster', 'num_user_for_reviews', 'country', 'budget', 'actor_2_facebook_likes', 'aspect_ratio', 'movie_facebook_likes'   ], axis=1, inplace=True)\n",
    "movies.head()"
   ]
  },
  {
   "cell_type": "markdown",
   "id": "2084135f-e452-48da-9e6b-ede53caf702b",
   "metadata": {},
   "source": [
    "##### Dealing with Null Values"
   ]
  },
  {
   "cell_type": "code",
   "execution_count": 441,
   "id": "10b4a5cd-02e2-45d1-9fa0-ff7c1de78e14",
   "metadata": {},
   "outputs": [
    {
     "data": {
      "text/plain": [
       "director_name      104\n",
       "duration            15\n",
       "actor_2_name        13\n",
       "gross              884\n",
       "genres               0\n",
       "actor_1_name         8\n",
       "movie_title          0\n",
       "num_voted_users      0\n",
       "actor_3_name        23\n",
       "plot_keywords      153\n",
       "movie_imdb_link      0\n",
       "language            14\n",
       "content_rating     303\n",
       "title_year         108\n",
       "imdb_score           0\n",
       "dtype: int64"
      ]
     },
     "execution_count": 441,
     "metadata": {},
     "output_type": "execute_result"
    }
   ],
   "source": [
    "movies.isnull().sum()"
   ]
  },
  {
   "cell_type": "code",
   "execution_count": 442,
   "id": "acb79732-e539-431e-bfd6-2df4b7ec7738",
   "metadata": {},
   "outputs": [
    {
     "name": "stdout",
     "output_type": "stream",
     "text": [
      "(4052, 15)\n",
      "<class 'pandas.core.frame.DataFrame'>\n",
      "Index: 4052 entries, 1 to 5042\n",
      "Data columns (total 15 columns):\n",
      " #   Column           Non-Null Count  Dtype  \n",
      "---  ------           --------------  -----  \n",
      " 0   director_name    4052 non-null   object \n",
      " 1   duration         4052 non-null   float64\n",
      " 2   actor_2_name     4052 non-null   object \n",
      " 3   gross            4052 non-null   float64\n",
      " 4   genres           4052 non-null   object \n",
      " 5   actor_1_name     4052 non-null   object \n",
      " 6   movie_title      4052 non-null   object \n",
      " 7   num_voted_users  4052 non-null   int64  \n",
      " 8   actor_3_name     4052 non-null   object \n",
      " 9   plot_keywords    4052 non-null   object \n",
      " 10  movie_imdb_link  4052 non-null   object \n",
      " 11  language         4052 non-null   object \n",
      " 12  content_rating   4052 non-null   object \n",
      " 13  title_year       4052 non-null   float64\n",
      " 14  imdb_score       4052 non-null   float64\n",
      "dtypes: float64(4), int64(1), object(10)\n",
      "memory usage: 506.5+ KB\n"
     ]
    }
   ],
   "source": [
    "movies = movies.dropna()\n",
    "\n",
    "print(movies.shape)\n",
    "movies.info()"
   ]
  },
  {
   "cell_type": "markdown",
   "id": "e8b3d594-88bd-4a5f-b805-266f8f0c7382",
   "metadata": {},
   "source": [
    "##### We are changing the Dtype of each column"
   ]
  },
  {
   "cell_type": "code",
   "execution_count": 444,
   "id": "5eff8eb3-1977-429f-8d2c-db4c1f6f1585",
   "metadata": {},
   "outputs": [],
   "source": [
    "movies['director_name'] = movies['director_name'].astype('string')\n",
    "\n",
    "movies['duration'] = movies['duration'].astype('Int64')\n",
    "\n",
    "movies['actor_2_name'] = movies['actor_2_name'].astype('string')\n",
    "\n",
    "movies['gross'] = movies['gross'].astype('int64')\n",
    "\n",
    "movies['genres'] = movies['genres'].astype('string')\n",
    "\n",
    "movies['actor_1_name'] = movies['actor_1_name'].astype('string')\n",
    "\n",
    "movies['movie_title'] = movies['movie_title'].astype('string')\n",
    "\n",
    "movies['num_voted_users'] = movies['num_voted_users'].astype('int64')\n",
    "\n",
    "movies['actor_3_name'] = movies['actor_3_name'].astype('string')\n",
    "\n",
    "movies['plot_keywords'] = movies['plot_keywords'].astype('string')\n",
    "\n",
    "movies['movie_imdb_link'] = movies['movie_imdb_link'].astype('string')\n",
    "\n",
    "movies['language'] = movies['language'].astype('string')\n",
    "\n",
    "movies['content_rating'] = movies['content_rating'].astype('string')\n",
    "\n",
    "movies['title_year'] = movies['title_year'].astype('int64')\n",
    "\n",
    "movies['imdb_score'] = movies['imdb_score'].astype('float')"
   ]
  },
  {
   "cell_type": "markdown",
   "id": "ccfab2df-d490-464e-8615-d9cbea1c0eb2",
   "metadata": {},
   "source": [
    "##### &nbsp;&nbsp;&nbsp;---------------------------------- OUR PRE PROCESSING IS DONE ---------------------------------\n"
   ]
  },
  {
   "cell_type": "markdown",
   "id": "4cf46135-f661-4afd-8f53-08363b3a187a",
   "metadata": {},
   "source": [
    "### Working on the 'Movie Info' Section"
   ]
  },
  {
   "cell_type": "markdown",
   "id": "a1b17d0b-e2d0-450a-8cec-bffb99d9f237",
   "metadata": {},
   "source": [
    "![Movies Info](Movies_Info.png)"
   ]
  },
  {
   "cell_type": "markdown",
   "id": "2d6a7181-0ee0-4076-8791-2c1d0bc2a176",
   "metadata": {},
   "source": [
    "##### This part is easy. We just need to show these data\n",
    "###### For this, we will create a dataframe with these columns only"
   ]
  },
  {
   "cell_type": "code",
   "execution_count": 449,
   "id": "99c38112-3df1-43fd-af33-b660ee463040",
   "metadata": {},
   "outputs": [],
   "source": [
    "movies_info = movies[['movie_title', 'genres', 'director_name', 'actor_1_name', 'actor_2_name', 'actor_3_name', 'imdb_score', 'duration', 'content_rating', 'title_year', 'gross', 'movie_imdb_link' ]]"
   ]
  },
  {
   "cell_type": "markdown",
   "id": "89345d86-2700-4618-88f0-2319addd7cc0",
   "metadata": {},
   "source": [
    "#### Modifying Column 'genres'"
   ]
  },
  {
   "cell_type": "code",
   "execution_count": 451,
   "id": "94b4c488-2274-4847-bb01-e22b354f36cd",
   "metadata": {},
   "outputs": [
    {
     "data": {
      "text/html": [
       "<div>\n",
       "<style scoped>\n",
       "    .dataframe tbody tr th:only-of-type {\n",
       "        vertical-align: middle;\n",
       "    }\n",
       "\n",
       "    .dataframe tbody tr th {\n",
       "        vertical-align: top;\n",
       "    }\n",
       "\n",
       "    .dataframe thead th {\n",
       "        text-align: right;\n",
       "    }\n",
       "</style>\n",
       "<table border=\"1\" class=\"dataframe\">\n",
       "  <thead>\n",
       "    <tr style=\"text-align: right;\">\n",
       "      <th></th>\n",
       "      <th>movie_title</th>\n",
       "      <th>genres</th>\n",
       "      <th>director_name</th>\n",
       "      <th>actor_1_name</th>\n",
       "      <th>actor_2_name</th>\n",
       "      <th>actor_3_name</th>\n",
       "      <th>imdb_score</th>\n",
       "      <th>duration</th>\n",
       "      <th>content_rating</th>\n",
       "      <th>title_year</th>\n",
       "      <th>gross</th>\n",
       "      <th>movie_imdb_link</th>\n",
       "    </tr>\n",
       "  </thead>\n",
       "  <tbody>\n",
       "    <tr>\n",
       "      <th>1</th>\n",
       "      <td>Pirates of the Caribbean: At World's End</td>\n",
       "      <td>Action, Adventure, Fantasy</td>\n",
       "      <td>Gore Verbinski</td>\n",
       "      <td>Johnny Depp</td>\n",
       "      <td>Orlando Bloom</td>\n",
       "      <td>Jack Davenport</td>\n",
       "      <td>7.1</td>\n",
       "      <td>169</td>\n",
       "      <td>PG-13</td>\n",
       "      <td>2007</td>\n",
       "      <td>309404152</td>\n",
       "      <td>http://www.imdb.com/title/tt0449088/?ref_=fn_t...</td>\n",
       "    </tr>\n",
       "  </tbody>\n",
       "</table>\n",
       "</div>"
      ],
      "text/plain": [
       "                                 movie_title                      genres  \\\n",
       "1  Pirates of the Caribbean: At World's End   Action, Adventure, Fantasy   \n",
       "\n",
       "    director_name actor_1_name   actor_2_name    actor_3_name  imdb_score  \\\n",
       "1  Gore Verbinski  Johnny Depp  Orlando Bloom  Jack Davenport         7.1   \n",
       "\n",
       "   duration content_rating  title_year      gross  \\\n",
       "1       169          PG-13        2007  309404152   \n",
       "\n",
       "                                     movie_imdb_link  \n",
       "1  http://www.imdb.com/title/tt0449088/?ref_=fn_t...  "
      ]
     },
     "execution_count": 451,
     "metadata": {},
     "output_type": "execute_result"
    }
   ],
   "source": [
    "movies_info = movies_info.copy()\n",
    "movies_info['genres'] = movies_info['genres'].str.replace('|', ', ', regex=False)\n",
    "\n",
    "movies_info.head(1)"
   ]
  },
  {
   "cell_type": "markdown",
   "id": "facc6c6d-8ecd-4627-b3c0-c56a0f943191",
   "metadata": {},
   "source": [
    "#### Modifying Column 'actor_i_name'\n",
    "##### Join all stars into a single column 'Casts' with comma separation"
   ]
  },
  {
   "cell_type": "code",
   "execution_count": 453,
   "id": "4650404c-b1b1-4d29-a7c0-c4f3b758da3e",
   "metadata": {},
   "outputs": [
    {
     "data": {
      "text/html": [
       "<div>\n",
       "<style scoped>\n",
       "    .dataframe tbody tr th:only-of-type {\n",
       "        vertical-align: middle;\n",
       "    }\n",
       "\n",
       "    .dataframe tbody tr th {\n",
       "        vertical-align: top;\n",
       "    }\n",
       "\n",
       "    .dataframe thead th {\n",
       "        text-align: right;\n",
       "    }\n",
       "</style>\n",
       "<table border=\"1\" class=\"dataframe\">\n",
       "  <thead>\n",
       "    <tr style=\"text-align: right;\">\n",
       "      <th></th>\n",
       "      <th>movie_title</th>\n",
       "      <th>genres</th>\n",
       "      <th>director_name</th>\n",
       "      <th>imdb_score</th>\n",
       "      <th>duration</th>\n",
       "      <th>content_rating</th>\n",
       "      <th>title_year</th>\n",
       "      <th>gross</th>\n",
       "      <th>movie_imdb_link</th>\n",
       "      <th>Casts</th>\n",
       "    </tr>\n",
       "  </thead>\n",
       "  <tbody>\n",
       "    <tr>\n",
       "      <th>1</th>\n",
       "      <td>Pirates of the Caribbean: At World's End</td>\n",
       "      <td>Action, Adventure, Fantasy</td>\n",
       "      <td>Gore Verbinski</td>\n",
       "      <td>7.1</td>\n",
       "      <td>169</td>\n",
       "      <td>PG-13</td>\n",
       "      <td>2007</td>\n",
       "      <td>309404152</td>\n",
       "      <td>http://www.imdb.com/title/tt0449088/?ref_=fn_t...</td>\n",
       "      <td>Johnny Depp, Orlando Bloom, Jack Davenport</td>\n",
       "    </tr>\n",
       "  </tbody>\n",
       "</table>\n",
       "</div>"
      ],
      "text/plain": [
       "                                 movie_title                      genres  \\\n",
       "1  Pirates of the Caribbean: At World's End   Action, Adventure, Fantasy   \n",
       "\n",
       "    director_name  imdb_score  duration content_rating  title_year      gross  \\\n",
       "1  Gore Verbinski         7.1       169          PG-13        2007  309404152   \n",
       "\n",
       "                                     movie_imdb_link  \\\n",
       "1  http://www.imdb.com/title/tt0449088/?ref_=fn_t...   \n",
       "\n",
       "                                        Casts  \n",
       "1  Johnny Depp, Orlando Bloom, Jack Davenport  "
      ]
     },
     "execution_count": 453,
     "metadata": {},
     "output_type": "execute_result"
    }
   ],
   "source": [
    "movies_info = movies_info.copy()  \n",
    "movies_info.loc[:, 'Casts'] = movies_info[['actor_1_name', 'actor_2_name', 'actor_3_name']].agg(', '.join, axis=1)\n",
    "\n",
    "movies_info.drop(columns=['actor_1_name', 'actor_2_name', 'actor_3_name'], inplace=True)\n",
    "movies_info.head(1)"
   ]
  },
  {
   "cell_type": "markdown",
   "id": "f841c539-efa0-4fd7-8f81-b7806b33c014",
   "metadata": {},
   "source": [
    "#### Modifying Column 'content_rating'"
   ]
  },
  {
   "cell_type": "code",
   "execution_count": 455,
   "id": "22ebef94-3622-494d-a66d-646a4cd1bfcd",
   "metadata": {},
   "outputs": [
    {
     "data": {
      "text/plain": [
       "content_rating\n",
       "R            1839\n",
       "PG-13        1391\n",
       "PG            607\n",
       "G              93\n",
       "Not Rated      49\n",
       "Unrated        33\n",
       "Approved       18\n",
       "X              10\n",
       "NC-17           6\n",
       "Passed          3\n",
       "M               2\n",
       "GP              1\n",
       "Name: count, dtype: Int64"
      ]
     },
     "execution_count": 455,
     "metadata": {},
     "output_type": "execute_result"
    }
   ],
   "source": [
    "movies_info['content_rating'].value_counts()"
   ]
  },
  {
   "cell_type": "code",
   "execution_count": 456,
   "id": "8f58bffd-8f4f-4089-97bc-d728cb0f0543",
   "metadata": {},
   "outputs": [
    {
     "data": {
      "text/plain": [
       "content_rating\n",
       "UA               1998\n",
       "A                1845\n",
       "Not Certified     116\n",
       "U                  93\n",
       "Name: count, dtype: int64"
      ]
     },
     "execution_count": 456,
     "metadata": {},
     "output_type": "execute_result"
    }
   ],
   "source": [
    "movies_info['content_rating'] = movies_info['content_rating'].replace('G', 'U')\n",
    "\n",
    "movies_info['content_rating'] = movies_info['content_rating'].replace('PG', 'UA')\n",
    "movies_info['content_rating'] = movies_info['content_rating'].replace('PG-13', 'UA')\n",
    "\n",
    "movies_info['content_rating'] = movies_info['content_rating'].replace('R', 'A')\n",
    "movies_info['content_rating'] = movies_info['content_rating'].replace('NC-17', 'A')\n",
    "\n",
    "valid_ratings = ['U', 'UA', 'A']\n",
    "movies_info['content_rating'] = movies_info['content_rating'].apply(\n",
    "    lambda x: x if x in valid_ratings else 'Not Certified'\n",
    ")\n",
    "\n",
    "movies_info['content_rating'].value_counts()"
   ]
  },
  {
   "cell_type": "code",
   "execution_count": 457,
   "id": "bb4937e9-ddf3-45c0-8371-fc8c029348f7",
   "metadata": {},
   "outputs": [
    {
     "data": {
      "text/html": [
       "<div>\n",
       "<style scoped>\n",
       "    .dataframe tbody tr th:only-of-type {\n",
       "        vertical-align: middle;\n",
       "    }\n",
       "\n",
       "    .dataframe tbody tr th {\n",
       "        vertical-align: top;\n",
       "    }\n",
       "\n",
       "    .dataframe thead th {\n",
       "        text-align: right;\n",
       "    }\n",
       "</style>\n",
       "<table border=\"1\" class=\"dataframe\">\n",
       "  <thead>\n",
       "    <tr style=\"text-align: right;\">\n",
       "      <th></th>\n",
       "      <th>movie_title</th>\n",
       "      <th>genres</th>\n",
       "      <th>director_name</th>\n",
       "      <th>imdb_score</th>\n",
       "      <th>duration</th>\n",
       "      <th>content_rating</th>\n",
       "      <th>title_year</th>\n",
       "      <th>gross</th>\n",
       "      <th>movie_imdb_link</th>\n",
       "      <th>Casts</th>\n",
       "    </tr>\n",
       "  </thead>\n",
       "  <tbody>\n",
       "    <tr>\n",
       "      <th>1</th>\n",
       "      <td>Pirates of the Caribbean: At World's End</td>\n",
       "      <td>Action, Adventure, Fantasy</td>\n",
       "      <td>Gore Verbinski</td>\n",
       "      <td>7.1</td>\n",
       "      <td>169</td>\n",
       "      <td>UA</td>\n",
       "      <td>2007</td>\n",
       "      <td>309404152</td>\n",
       "      <td>http://www.imdb.com/title/tt0449088/?ref_=fn_t...</td>\n",
       "      <td>Johnny Depp, Orlando Bloom, Jack Davenport</td>\n",
       "    </tr>\n",
       "  </tbody>\n",
       "</table>\n",
       "</div>"
      ],
      "text/plain": [
       "                                 movie_title                      genres  \\\n",
       "1  Pirates of the Caribbean: At World's End   Action, Adventure, Fantasy   \n",
       "\n",
       "    director_name  imdb_score  duration content_rating  title_year      gross  \\\n",
       "1  Gore Verbinski         7.1       169             UA        2007  309404152   \n",
       "\n",
       "                                     movie_imdb_link  \\\n",
       "1  http://www.imdb.com/title/tt0449088/?ref_=fn_t...   \n",
       "\n",
       "                                        Casts  \n",
       "1  Johnny Depp, Orlando Bloom, Jack Davenport  "
      ]
     },
     "execution_count": 457,
     "metadata": {},
     "output_type": "execute_result"
    }
   ],
   "source": [
    "movies_info.head(1)"
   ]
  },
  {
   "cell_type": "code",
   "execution_count": 458,
   "id": "232e3add-450a-4eff-80fe-2e87697a3d9c",
   "metadata": {},
   "outputs": [],
   "source": [
    "#import pickle\n",
    "\n",
    "#pickle.dump(movies_info,open('movies_info.pkl','wb'))"
   ]
  },
  {
   "cell_type": "markdown",
   "id": "9797d977-8fee-4ac7-9968-0bda44bb49b3",
   "metadata": {},
   "source": [
    "##### &nbsp;&nbsp;&nbsp;-------------------------------------- THIS SECTION IS DONE -------------------------------------\n"
   ]
  },
  {
   "cell_type": "markdown",
   "id": "6d28412a-3468-4fa3-a9dd-7f531d24d4a7",
   "metadata": {},
   "source": [
    "### Working on the 'Top Recommendations For You' Section"
   ]
  },
  {
   "cell_type": "markdown",
   "id": "3db2a5aa-6bb4-4329-b569-3d3e068471b2",
   "metadata": {},
   "source": [
    "![Top Recommendations](Top_Recommendations.png)"
   ]
  },
  {
   "cell_type": "markdown",
   "id": "94396b54-a77e-49e5-963f-e0e827d416be",
   "metadata": {},
   "source": [
    "## ★ Pre Processing"
   ]
  },
  {
   "cell_type": "markdown",
   "id": "e8e1f3d1-8358-43e9-b528-1b979b0bafa5",
   "metadata": {},
   "source": [
    "##### ✦ Deciding which columns are useful and which are not based on domain understanding\n",
    "𝟏. 𝐆𝐞𝐧𝐫𝐞𝐬\n",
    "<br>\n",
    "𝟐. 𝐒𝐞𝐫𝐢𝐞𝐬_𝐓𝐢𝐭𝐥𝐞\n",
    "<br>\n",
    "𝟑. 𝐎𝐯𝐞𝐫𝐯𝐢𝐞𝐰\n",
    "<br>\n",
    "𝟒. 𝐒𝐭𝐚𝐫𝐬 (𝟏,𝟐,𝟑)\n",
    "<br>\n",
    "𝟓. 𝐃𝐢𝐫𝐞𝐜𝐭𝐨𝐫:"
   ]
  },
  {
   "cell_type": "code",
   "execution_count": 464,
   "id": "bdcec4b1-b95a-4305-b4ba-a8fac5ef4842",
   "metadata": {},
   "outputs": [
    {
     "data": {
      "text/html": [
       "<div>\n",
       "<style scoped>\n",
       "    .dataframe tbody tr th:only-of-type {\n",
       "        vertical-align: middle;\n",
       "    }\n",
       "\n",
       "    .dataframe tbody tr th {\n",
       "        vertical-align: top;\n",
       "    }\n",
       "\n",
       "    .dataframe thead th {\n",
       "        text-align: right;\n",
       "    }\n",
       "</style>\n",
       "<table border=\"1\" class=\"dataframe\">\n",
       "  <thead>\n",
       "    <tr style=\"text-align: right;\">\n",
       "      <th></th>\n",
       "      <th>movie_title</th>\n",
       "      <th>genres</th>\n",
       "      <th>director_name</th>\n",
       "      <th>actor_1_name</th>\n",
       "      <th>actor_2_name</th>\n",
       "      <th>actor_3_name</th>\n",
       "      <th>plot_keywords</th>\n",
       "      <th>movie_imdb_link</th>\n",
       "    </tr>\n",
       "  </thead>\n",
       "  <tbody>\n",
       "    <tr>\n",
       "      <th>1</th>\n",
       "      <td>Pirates of the Caribbean: At World's End</td>\n",
       "      <td>Action|Adventure|Fantasy</td>\n",
       "      <td>Gore Verbinski</td>\n",
       "      <td>Johnny Depp</td>\n",
       "      <td>Orlando Bloom</td>\n",
       "      <td>Jack Davenport</td>\n",
       "      <td>goddess|marriage ceremony|marriage proposal|pi...</td>\n",
       "      <td>http://www.imdb.com/title/tt0449088/?ref_=fn_t...</td>\n",
       "    </tr>\n",
       "    <tr>\n",
       "      <th>2</th>\n",
       "      <td>Spectre</td>\n",
       "      <td>Action|Adventure|Thriller</td>\n",
       "      <td>Sam Mendes</td>\n",
       "      <td>Christoph Waltz</td>\n",
       "      <td>Rory Kinnear</td>\n",
       "      <td>Stephanie Sigman</td>\n",
       "      <td>bomb|espionage|sequel|spy|terrorist</td>\n",
       "      <td>http://www.imdb.com/title/tt2379713/?ref_=fn_t...</td>\n",
       "    </tr>\n",
       "    <tr>\n",
       "      <th>3</th>\n",
       "      <td>The Dark Knight Rises</td>\n",
       "      <td>Action|Thriller</td>\n",
       "      <td>Christopher Nolan</td>\n",
       "      <td>Tom Hardy</td>\n",
       "      <td>Christian Bale</td>\n",
       "      <td>Joseph Gordon-Levitt</td>\n",
       "      <td>deception|imprisonment|lawlessness|police offi...</td>\n",
       "      <td>http://www.imdb.com/title/tt1345836/?ref_=fn_t...</td>\n",
       "    </tr>\n",
       "    <tr>\n",
       "      <th>5</th>\n",
       "      <td>John Carter</td>\n",
       "      <td>Action|Adventure|Sci-Fi</td>\n",
       "      <td>Andrew Stanton</td>\n",
       "      <td>Daryl Sabara</td>\n",
       "      <td>Samantha Morton</td>\n",
       "      <td>Polly Walker</td>\n",
       "      <td>alien|american civil war|male nipple|mars|prin...</td>\n",
       "      <td>http://www.imdb.com/title/tt0401729/?ref_=fn_t...</td>\n",
       "    </tr>\n",
       "    <tr>\n",
       "      <th>6</th>\n",
       "      <td>Spider-Man 3</td>\n",
       "      <td>Action|Adventure|Romance</td>\n",
       "      <td>Sam Raimi</td>\n",
       "      <td>J.K. Simmons</td>\n",
       "      <td>James Franco</td>\n",
       "      <td>Kirsten Dunst</td>\n",
       "      <td>sandman|spider man|symbiote|venom|villain</td>\n",
       "      <td>http://www.imdb.com/title/tt0413300/?ref_=fn_t...</td>\n",
       "    </tr>\n",
       "  </tbody>\n",
       "</table>\n",
       "</div>"
      ],
      "text/plain": [
       "                                 movie_title                     genres  \\\n",
       "1  Pirates of the Caribbean: At World's End    Action|Adventure|Fantasy   \n",
       "2                                   Spectre   Action|Adventure|Thriller   \n",
       "3                     The Dark Knight Rises             Action|Thriller   \n",
       "5                               John Carter     Action|Adventure|Sci-Fi   \n",
       "6                              Spider-Man 3    Action|Adventure|Romance   \n",
       "\n",
       "       director_name     actor_1_name     actor_2_name          actor_3_name  \\\n",
       "1     Gore Verbinski      Johnny Depp    Orlando Bloom        Jack Davenport   \n",
       "2         Sam Mendes  Christoph Waltz     Rory Kinnear      Stephanie Sigman   \n",
       "3  Christopher Nolan        Tom Hardy   Christian Bale  Joseph Gordon-Levitt   \n",
       "5     Andrew Stanton     Daryl Sabara  Samantha Morton          Polly Walker   \n",
       "6          Sam Raimi     J.K. Simmons     James Franco         Kirsten Dunst   \n",
       "\n",
       "                                       plot_keywords  \\\n",
       "1  goddess|marriage ceremony|marriage proposal|pi...   \n",
       "2                bomb|espionage|sequel|spy|terrorist   \n",
       "3  deception|imprisonment|lawlessness|police offi...   \n",
       "5  alien|american civil war|male nipple|mars|prin...   \n",
       "6          sandman|spider man|symbiote|venom|villain   \n",
       "\n",
       "                                     movie_imdb_link  \n",
       "1  http://www.imdb.com/title/tt0449088/?ref_=fn_t...  \n",
       "2  http://www.imdb.com/title/tt2379713/?ref_=fn_t...  \n",
       "3  http://www.imdb.com/title/tt1345836/?ref_=fn_t...  \n",
       "5  http://www.imdb.com/title/tt0401729/?ref_=fn_t...  \n",
       "6  http://www.imdb.com/title/tt0413300/?ref_=fn_t...  "
      ]
     },
     "execution_count": 464,
     "metadata": {},
     "output_type": "execute_result"
    }
   ],
   "source": [
    "top_recommendations = movies[['movie_title', 'genres', 'director_name', 'actor_1_name', 'actor_2_name', 'actor_3_name', 'plot_keywords', 'movie_imdb_link' ]]\n",
    "top_recommendations.head()"
   ]
  },
  {
   "cell_type": "markdown",
   "id": "12a7d1d6-ff98-46dc-b67a-b5f45d6e8b8c",
   "metadata": {},
   "source": [
    "#### Modifying 'genres' and 'plot_keywords'\n",
    "##### Replacing '|' with ', ' to make keywords comma separeted"
   ]
  },
  {
   "cell_type": "code",
   "execution_count": 466,
   "id": "502b4d66-4925-4a64-9715-c929512e495f",
   "metadata": {},
   "outputs": [
    {
     "data": {
      "text/html": [
       "<div>\n",
       "<style scoped>\n",
       "    .dataframe tbody tr th:only-of-type {\n",
       "        vertical-align: middle;\n",
       "    }\n",
       "\n",
       "    .dataframe tbody tr th {\n",
       "        vertical-align: top;\n",
       "    }\n",
       "\n",
       "    .dataframe thead th {\n",
       "        text-align: right;\n",
       "    }\n",
       "</style>\n",
       "<table border=\"1\" class=\"dataframe\">\n",
       "  <thead>\n",
       "    <tr style=\"text-align: right;\">\n",
       "      <th></th>\n",
       "      <th>movie_title</th>\n",
       "      <th>genres</th>\n",
       "      <th>director_name</th>\n",
       "      <th>actor_1_name</th>\n",
       "      <th>actor_2_name</th>\n",
       "      <th>actor_3_name</th>\n",
       "      <th>plot_keywords</th>\n",
       "      <th>movie_imdb_link</th>\n",
       "    </tr>\n",
       "  </thead>\n",
       "  <tbody>\n",
       "    <tr>\n",
       "      <th>1</th>\n",
       "      <td>Pirates of the Caribbean: At World's End</td>\n",
       "      <td>Action, Adventure, Fantasy</td>\n",
       "      <td>Gore Verbinski</td>\n",
       "      <td>Johnny Depp</td>\n",
       "      <td>Orlando Bloom</td>\n",
       "      <td>Jack Davenport</td>\n",
       "      <td>goddess, marriage ceremony, marriage proposal,...</td>\n",
       "      <td>http://www.imdb.com/title/tt0449088/?ref_=fn_t...</td>\n",
       "    </tr>\n",
       "  </tbody>\n",
       "</table>\n",
       "</div>"
      ],
      "text/plain": [
       "                                 movie_title                      genres  \\\n",
       "1  Pirates of the Caribbean: At World's End   Action, Adventure, Fantasy   \n",
       "\n",
       "    director_name actor_1_name   actor_2_name    actor_3_name  \\\n",
       "1  Gore Verbinski  Johnny Depp  Orlando Bloom  Jack Davenport   \n",
       "\n",
       "                                       plot_keywords  \\\n",
       "1  goddess, marriage ceremony, marriage proposal,...   \n",
       "\n",
       "                                     movie_imdb_link  \n",
       "1  http://www.imdb.com/title/tt0449088/?ref_=fn_t...  "
      ]
     },
     "execution_count": 466,
     "metadata": {},
     "output_type": "execute_result"
    }
   ],
   "source": [
    "top_recommendations = top_recommendations.copy()\n",
    "top_recommendations['genres'] = top_recommendations['genres'].str.replace('|', ', ', regex=False)\n",
    "top_recommendations['plot_keywords'] = top_recommendations['plot_keywords'].str.replace('|', ', ', regex=False)\n",
    "\n",
    "top_recommendations.head(1)"
   ]
  },
  {
   "cell_type": "markdown",
   "id": "4980e689-e6d5-40d6-acf9-191c846e906d",
   "metadata": {},
   "source": [
    "##### Converting them into lists:"
   ]
  },
  {
   "cell_type": "code",
   "execution_count": 468,
   "id": "9add20ea-94fd-4f38-8444-cd148c5671df",
   "metadata": {},
   "outputs": [],
   "source": [
    "top_recommendations = top_recommendations.copy()\n",
    "top_recommendations['genres'] = top_recommendations['genres'].apply(lambda x: [i.strip() for i in x.split(',')])\n",
    "top_recommendations['plot_keywords'] = top_recommendations['plot_keywords'].apply(lambda x: [i.strip() for i in x.split(',')])"
   ]
  },
  {
   "cell_type": "code",
   "execution_count": 469,
   "id": "495c66bb-1ee9-41aa-a5db-b4cc9a79e55d",
   "metadata": {},
   "outputs": [
    {
     "data": {
      "text/html": [
       "<div>\n",
       "<style scoped>\n",
       "    .dataframe tbody tr th:only-of-type {\n",
       "        vertical-align: middle;\n",
       "    }\n",
       "\n",
       "    .dataframe tbody tr th {\n",
       "        vertical-align: top;\n",
       "    }\n",
       "\n",
       "    .dataframe thead th {\n",
       "        text-align: right;\n",
       "    }\n",
       "</style>\n",
       "<table border=\"1\" class=\"dataframe\">\n",
       "  <thead>\n",
       "    <tr style=\"text-align: right;\">\n",
       "      <th></th>\n",
       "      <th>movie_title</th>\n",
       "      <th>genres</th>\n",
       "      <th>director_name</th>\n",
       "      <th>actor_1_name</th>\n",
       "      <th>actor_2_name</th>\n",
       "      <th>actor_3_name</th>\n",
       "      <th>plot_keywords</th>\n",
       "      <th>movie_imdb_link</th>\n",
       "    </tr>\n",
       "  </thead>\n",
       "  <tbody>\n",
       "    <tr>\n",
       "      <th>1</th>\n",
       "      <td>Pirates of the Caribbean: At World's End</td>\n",
       "      <td>[Action, Adventure, Fantasy]</td>\n",
       "      <td>Gore Verbinski</td>\n",
       "      <td>Johnny Depp</td>\n",
       "      <td>Orlando Bloom</td>\n",
       "      <td>Jack Davenport</td>\n",
       "      <td>[goddess, marriage ceremony, marriage proposal...</td>\n",
       "      <td>http://www.imdb.com/title/tt0449088/?ref_=fn_t...</td>\n",
       "    </tr>\n",
       "  </tbody>\n",
       "</table>\n",
       "</div>"
      ],
      "text/plain": [
       "                                 movie_title                        genres  \\\n",
       "1  Pirates of the Caribbean: At World's End   [Action, Adventure, Fantasy]   \n",
       "\n",
       "    director_name actor_1_name   actor_2_name    actor_3_name  \\\n",
       "1  Gore Verbinski  Johnny Depp  Orlando Bloom  Jack Davenport   \n",
       "\n",
       "                                       plot_keywords  \\\n",
       "1  [goddess, marriage ceremony, marriage proposal...   \n",
       "\n",
       "                                     movie_imdb_link  \n",
       "1  http://www.imdb.com/title/tt0449088/?ref_=fn_t...  "
      ]
     },
     "execution_count": 469,
     "metadata": {},
     "output_type": "execute_result"
    }
   ],
   "source": [
    "top_recommendations.head(1)"
   ]
  },
  {
   "cell_type": "markdown",
   "id": "5e70c5a9-2112-4603-bb4e-fd38ae2b3938",
   "metadata": {},
   "source": [
    "#### Now we will create a 'tag' for each movie using all the columns except the 'movie_title'"
   ]
  },
  {
   "cell_type": "markdown",
   "id": "25d22c44-ea1b-43dc-97cc-ef82681dc195",
   "metadata": {},
   "source": [
    "##### Replacing the space between two words with an underscore(_)\n",
    "This is necessary, otherwise each word of the string will be treated as an individual string and our model will be confused between Chris Evans and Chris Hemsworth!"
   ]
  },
  {
   "cell_type": "code",
   "execution_count": 472,
   "id": "ba8d2524-cb2f-4730-8cdf-45b9006fe108",
   "metadata": {},
   "outputs": [
    {
     "data": {
      "text/html": [
       "<div>\n",
       "<style scoped>\n",
       "    .dataframe tbody tr th:only-of-type {\n",
       "        vertical-align: middle;\n",
       "    }\n",
       "\n",
       "    .dataframe tbody tr th {\n",
       "        vertical-align: top;\n",
       "    }\n",
       "\n",
       "    .dataframe thead th {\n",
       "        text-align: right;\n",
       "    }\n",
       "</style>\n",
       "<table border=\"1\" class=\"dataframe\">\n",
       "  <thead>\n",
       "    <tr style=\"text-align: right;\">\n",
       "      <th></th>\n",
       "      <th>movie_title</th>\n",
       "      <th>genres</th>\n",
       "      <th>director_name</th>\n",
       "      <th>actor_1_name</th>\n",
       "      <th>actor_2_name</th>\n",
       "      <th>actor_3_name</th>\n",
       "      <th>plot_keywords</th>\n",
       "      <th>movie_imdb_link</th>\n",
       "    </tr>\n",
       "  </thead>\n",
       "  <tbody>\n",
       "    <tr>\n",
       "      <th>1</th>\n",
       "      <td>Pirates of the Caribbean: At World's End</td>\n",
       "      <td>[Action, Adventure, Fantasy]</td>\n",
       "      <td>Gore_Verbinski</td>\n",
       "      <td>Johnny_Depp</td>\n",
       "      <td>Orlando_Bloom</td>\n",
       "      <td>Jack_Davenport</td>\n",
       "      <td>[goddess, marriage_ceremony, marriage_proposal...</td>\n",
       "      <td>http://www.imdb.com/title/tt0449088/?ref_=fn_t...</td>\n",
       "    </tr>\n",
       "  </tbody>\n",
       "</table>\n",
       "</div>"
      ],
      "text/plain": [
       "                                 movie_title                        genres  \\\n",
       "1  Pirates of the Caribbean: At World's End   [Action, Adventure, Fantasy]   \n",
       "\n",
       "    director_name actor_1_name   actor_2_name    actor_3_name  \\\n",
       "1  Gore_Verbinski  Johnny_Depp  Orlando_Bloom  Jack_Davenport   \n",
       "\n",
       "                                       plot_keywords  \\\n",
       "1  [goddess, marriage_ceremony, marriage_proposal...   \n",
       "\n",
       "                                     movie_imdb_link  \n",
       "1  http://www.imdb.com/title/tt0449088/?ref_=fn_t...  "
      ]
     },
     "execution_count": 472,
     "metadata": {},
     "output_type": "execute_result"
    }
   ],
   "source": [
    "# Dealing with Lists:\n",
    "top_recommendations['genres'] = top_recommendations['genres'].apply(lambda x:[i.replace(\" \",\"_\") for i in x])\n",
    "top_recommendations['plot_keywords'] = top_recommendations['plot_keywords'].apply(lambda x:[i.replace(\" \",\"_\") for i in x])\n",
    "\n",
    "# Dealing with strings:\n",
    "top_recommendations.loc[:, 'director_name'] = top_recommendations['director_name'].str.replace(' ', '_')\n",
    "top_recommendations.loc[:, 'actor_1_name'] = top_recommendations['actor_1_name'].str.replace(' ', '_')\n",
    "top_recommendations.loc[:, 'actor_2_name'] = top_recommendations['actor_2_name'].str.replace(' ', '_')\n",
    "top_recommendations.loc[:, 'actor_3_name'] = top_recommendations['actor_3_name'].str.replace(' ', '_')\n",
    "\n",
    "top_recommendations.head(1)"
   ]
  },
  {
   "cell_type": "markdown",
   "id": "64c4c9af-55af-43d7-97b6-8bab2952182a",
   "metadata": {},
   "source": [
    "#### Generating Tags\n",
    "We will create 'tags' for each movie by concatenating all the strings in each column except 'movie_title'"
   ]
  },
  {
   "cell_type": "code",
   "execution_count": 474,
   "id": "42d14e0a-fc4d-402e-b940-759c93d03842",
   "metadata": {},
   "outputs": [
    {
     "data": {
      "text/html": [
       "<div>\n",
       "<style scoped>\n",
       "    .dataframe tbody tr th:only-of-type {\n",
       "        vertical-align: middle;\n",
       "    }\n",
       "\n",
       "    .dataframe tbody tr th {\n",
       "        vertical-align: top;\n",
       "    }\n",
       "\n",
       "    .dataframe thead th {\n",
       "        text-align: right;\n",
       "    }\n",
       "</style>\n",
       "<table border=\"1\" class=\"dataframe\">\n",
       "  <thead>\n",
       "    <tr style=\"text-align: right;\">\n",
       "      <th></th>\n",
       "      <th>movie_title</th>\n",
       "      <th>genres</th>\n",
       "      <th>director_name</th>\n",
       "      <th>actor_1_name</th>\n",
       "      <th>actor_2_name</th>\n",
       "      <th>actor_3_name</th>\n",
       "      <th>plot_keywords</th>\n",
       "      <th>movie_imdb_link</th>\n",
       "      <th>tags</th>\n",
       "    </tr>\n",
       "  </thead>\n",
       "  <tbody>\n",
       "    <tr>\n",
       "      <th>1</th>\n",
       "      <td>Pirates of the Caribbean: At World's End</td>\n",
       "      <td>Action Adventure Fantasy</td>\n",
       "      <td>Gore_Verbinski</td>\n",
       "      <td>Johnny_Depp</td>\n",
       "      <td>Orlando_Bloom</td>\n",
       "      <td>Jack_Davenport</td>\n",
       "      <td>goddess marriage_ceremony marriage_proposal pi...</td>\n",
       "      <td>http://www.imdb.com/title/tt0449088/?ref_=fn_t...</td>\n",
       "      <td>Pirates of the Caribbean: At World's End  Acti...</td>\n",
       "    </tr>\n",
       "  </tbody>\n",
       "</table>\n",
       "</div>"
      ],
      "text/plain": [
       "                                 movie_title                    genres  \\\n",
       "1  Pirates of the Caribbean: At World's End   Action Adventure Fantasy   \n",
       "\n",
       "    director_name actor_1_name   actor_2_name    actor_3_name  \\\n",
       "1  Gore_Verbinski  Johnny_Depp  Orlando_Bloom  Jack_Davenport   \n",
       "\n",
       "                                       plot_keywords  \\\n",
       "1  goddess marriage_ceremony marriage_proposal pi...   \n",
       "\n",
       "                                     movie_imdb_link  \\\n",
       "1  http://www.imdb.com/title/tt0449088/?ref_=fn_t...   \n",
       "\n",
       "                                                tags  \n",
       "1  Pirates of the Caribbean: At World's End  Acti...  "
      ]
     },
     "execution_count": 474,
     "metadata": {},
     "output_type": "execute_result"
    }
   ],
   "source": [
    "# Converting the 'genre' and 'plot_keywords' into a string again\n",
    "top_recommendations = top_recommendations.copy()\n",
    "top_recommendations['genres'] = top_recommendations['genres'].apply(lambda x: ' '.join(x))\n",
    "top_recommendations['plot_keywords'] = top_recommendations['plot_keywords'].apply(lambda x: ' '.join(x))\n",
    "\n",
    "\n",
    "# Creating the columns 'tags'\n",
    "top_recommendations.loc[:, 'tags']  = top_recommendations['movie_title'] + ' ' + top_recommendations['genres'] + ' ' + top_recommendations['director_name'] + ' ' + top_recommendations['actor_1_name'] + ' ' + top_recommendations['actor_2_name'] + ' ' + top_recommendations['actor_3_name'] + ' ' + top_recommendations['plot_keywords']\n",
    "\n",
    "# Checking the head\n",
    "top_recommendations.head(1)"
   ]
  },
  {
   "cell_type": "markdown",
   "id": "cde47e59-ebac-43e5-9802-ecbf4528e7bf",
   "metadata": {},
   "source": [
    "##### Delete all columns except '_movie_title_', '_tags_', and '_movie_imdb_link_'"
   ]
  },
  {
   "cell_type": "code",
   "execution_count": 476,
   "id": "789f845c-1a86-4261-98d4-aa73c5dbeec8",
   "metadata": {},
   "outputs": [
    {
     "data": {
      "text/html": [
       "<div>\n",
       "<style scoped>\n",
       "    .dataframe tbody tr th:only-of-type {\n",
       "        vertical-align: middle;\n",
       "    }\n",
       "\n",
       "    .dataframe tbody tr th {\n",
       "        vertical-align: top;\n",
       "    }\n",
       "\n",
       "    .dataframe thead th {\n",
       "        text-align: right;\n",
       "    }\n",
       "</style>\n",
       "<table border=\"1\" class=\"dataframe\">\n",
       "  <thead>\n",
       "    <tr style=\"text-align: right;\">\n",
       "      <th></th>\n",
       "      <th>movie_title</th>\n",
       "      <th>tags</th>\n",
       "      <th>movie_imdb_link</th>\n",
       "      <th>director_name</th>\n",
       "      <th>actor_1_name</th>\n",
       "      <th>actor_2_name</th>\n",
       "      <th>actor_3_name</th>\n",
       "    </tr>\n",
       "  </thead>\n",
       "  <tbody>\n",
       "    <tr>\n",
       "      <th>1</th>\n",
       "      <td>Pirates of the Caribbean: At World's End</td>\n",
       "      <td>Pirates of the Caribbean: At World's End  Acti...</td>\n",
       "      <td>http://www.imdb.com/title/tt0449088/?ref_=fn_t...</td>\n",
       "      <td>Gore_Verbinski</td>\n",
       "      <td>Johnny_Depp</td>\n",
       "      <td>Orlando_Bloom</td>\n",
       "      <td>Jack_Davenport</td>\n",
       "    </tr>\n",
       "  </tbody>\n",
       "</table>\n",
       "</div>"
      ],
      "text/plain": [
       "                                 movie_title  \\\n",
       "1  Pirates of the Caribbean: At World's End    \n",
       "\n",
       "                                                tags  \\\n",
       "1  Pirates of the Caribbean: At World's End  Acti...   \n",
       "\n",
       "                                     movie_imdb_link   director_name  \\\n",
       "1  http://www.imdb.com/title/tt0449088/?ref_=fn_t...  Gore_Verbinski   \n",
       "\n",
       "  actor_1_name   actor_2_name    actor_3_name  \n",
       "1  Johnny_Depp  Orlando_Bloom  Jack_Davenport  "
      ]
     },
     "execution_count": 476,
     "metadata": {},
     "output_type": "execute_result"
    }
   ],
   "source": [
    "# Keeping these 3 columns only\n",
    "top_recommendations = top_recommendations[['movie_title', 'tags', 'movie_imdb_link', 'director_name', 'actor_1_name', 'actor_2_name', 'actor_3_name']]\n",
    "\n",
    "# Checking the head\n",
    "top_recommendations.head(1)"
   ]
  },
  {
   "cell_type": "code",
   "execution_count": 477,
   "id": "037d279a-2842-443e-a18e-04ff0e995319",
   "metadata": {},
   "outputs": [
    {
     "data": {
      "text/plain": [
       "\"Pirates of the Caribbean: At World's End\\xa0 Action Adventure Fantasy Gore_Verbinski Johnny_Depp Orlando_Bloom Jack_Davenport goddess marriage_ceremony marriage_proposal pirate singapore\""
      ]
     },
     "execution_count": 477,
     "metadata": {},
     "output_type": "execute_result"
    }
   ],
   "source": [
    "top_recommendations['tags'][1]"
   ]
  },
  {
   "cell_type": "markdown",
   "id": "76638315-989d-4f3d-9138-2d627e4f9b6d",
   "metadata": {},
   "source": [
    "##### ✤ Now we apply stemming to the words of the tags\n",
    "'Stemming' refers to the process of reducing words to their root or base form by removing suffixes. For instance, stemming would reduce '_running_', '_runs_', and '_ran_' to the stem '_run_'. The primary goal of stemming is to improve the efficiency and effectiveness of text analysis tasks by treating different variations of a word as the same entity."
   ]
  },
  {
   "cell_type": "code",
   "execution_count": 479,
   "id": "730cb656-fec6-41f4-b31e-90cc8192bfb6",
   "metadata": {},
   "outputs": [],
   "source": [
    "import nltk\n",
    "from nltk.stem.porter import PorterStemmer\n",
    "ps = PorterStemmer()"
   ]
  },
  {
   "cell_type": "code",
   "execution_count": 480,
   "id": "7680840b-39e8-4335-9a6e-271c771cdf9a",
   "metadata": {},
   "outputs": [],
   "source": [
    "def stem_tags(text):\n",
    "    y = []\n",
    "    for i in text.split():\n",
    "        y.append(ps.stem(i))\n",
    "    return \" \".join(y)    "
   ]
  },
  {
   "cell_type": "code",
   "execution_count": 481,
   "id": "37fb7232-5d93-43d0-be49-6e6d19cdae4f",
   "metadata": {},
   "outputs": [
    {
     "data": {
      "text/plain": [
       "\"pirat of the caribbean: at world' end action adventur fantasi gore_verbinski johnny_depp orlando_bloom jack_davenport goddess marriage_ceremoni marriage_propos pirat singapor\""
      ]
     },
     "execution_count": 481,
     "metadata": {},
     "output_type": "execute_result"
    }
   ],
   "source": [
    "top_recommendations = top_recommendations.copy() \n",
    "top_recommendations['tags'] = top_recommendations['tags'].apply(stem_tags)\n",
    "\n",
    "top_recommendations['tags'][1]"
   ]
  },
  {
   "cell_type": "markdown",
   "id": "637636f3-498e-4a34-b870-41c287e5273f",
   "metadata": {},
   "source": [
    "## ★ Model Building"
   ]
  },
  {
   "cell_type": "markdown",
   "id": "4a3513e6-01d6-437c-abd2-497e0977ac5f",
   "metadata": {},
   "source": [
    "#### ✤ V͟e͟c͟t͟o͟r͟i͟z͟e͟ t͟a͟g͟s͟ u͟s͟i͟n͟g͟ T͟F͟-I͟D͟F͟ :\n",
    "##### Text vectorization is the process of converting text into numerical representations so that machine learning models can understand and process it. Here are several different ways to vectorize text like:\n",
    "\n",
    "1. 𝐁𝐚𝐠 𝐨𝐟 𝐖𝐨𝐫𝐝𝐬 (𝐁𝐨𝐖): Counts how many times each word appears in the text.\n",
    "2. 𝐖𝐨𝐫𝐝𝟐𝐕𝐞𝐜: Convert words into dense vectors that capture semantic meaning.\n",
    "3. 𝐓𝐅-𝐈𝐃𝐅 (𝐓𝐞𝐫𝐦 𝐅𝐫𝐞𝐪𝐮𝐞𝐧𝐜𝐲-𝐈𝐧𝐯𝐞𝐫𝐬𝐞 𝐃𝐨𝐜𝐮𝐦𝐞𝐧𝐭 𝐅𝐫𝐞𝐪𝐮𝐞𝐧𝐜𝐲): Weighs the frequency of a word by how rare it is across documents."
   ]
  },
  {
   "cell_type": "code",
   "execution_count": 484,
   "id": "b30d91f9-6e4d-4e89-b53c-e015bb0e2a36",
   "metadata": {},
   "outputs": [],
   "source": [
    "from sklearn.feature_extraction.text import TfidfVectorizer\n",
    "tfidf = TfidfVectorizer(max_features=5000, stop_words='english')\n",
    "vectors = tfidf.fit_transform(top_recommendations['tags']).toarray()"
   ]
  },
  {
   "cell_type": "markdown",
   "id": "1206a485-4600-40c3-add5-954c42ee72b7",
   "metadata": {},
   "source": [
    "##### ➤ Since the tag of a movie consists much less words than 5000, we are getting so many 0's in vectors"
   ]
  },
  {
   "cell_type": "markdown",
   "id": "708d7cb5-da3b-4215-b7cf-8542e7d63e16",
   "metadata": {},
   "source": [
    "#### ✤ Finding Cosine Similarity Between Vectors\n",
    "Distance is a measure of similarity. The more the distance between two vectors, the less will be the similarity between those two movies.\n",
    "Now, instead of Eucleadian distance, we will use cosine distance because the large dimension (5000). Eucleadian distance does not work well for large dimension. It is called the '𝐜𝐮𝐫𝐬𝐞 𝐨𝐟 𝐝𝐢𝐦𝐞𝐧𝐬𝐢𝐨𝐧𝐚𝐥𝐢𝐭𝐲'"
   ]
  },
  {
   "cell_type": "code",
   "execution_count": 487,
   "id": "56ba0694-f318-4699-b116-882d3137d50e",
   "metadata": {},
   "outputs": [],
   "source": [
    "from sklearn.metrics.pairwise import cosine_similarity\n",
    "similarity = cosine_similarity(vectors)"
   ]
  },
  {
   "cell_type": "markdown",
   "id": "256a9b8e-3244-4051-9c57-122d32fe954a",
   "metadata": {},
   "source": [
    "##### ➤ Note that cosine_similarity is the reciprocal of the cosine_distance and its value ranges between 0 and 1"
   ]
  },
  {
   "cell_type": "code",
   "execution_count": 489,
   "id": "da9b9082-a8fa-46a7-a8ed-10f6ac71184f",
   "metadata": {},
   "outputs": [],
   "source": [
    "def recommend(movie):\n",
    "    # Normalize input and movie titles to lowercase and strip whitespace\n",
    "    movie = movie.strip().lower()\n",
    "    movie_titles = top_recommendations['movie_title'].str.strip().str.lower()\n",
    "    \n",
    "    if movie not in movie_titles.values:\n",
    "        print(\"Movie not found in dataset. Please try another one.\")\n",
    "        return\n",
    "\n",
    "    # Get the correct index using normalized comparison\n",
    "    movie_index = movie_titles[movie_titles == movie].index[0]\n",
    "    similarity_index = similarity[movie_index]\n",
    "    recommended_movies_list = sorted(list(enumerate(similarity_index)), reverse=True, key=lambda x: x[1])[1:6]\n",
    "\n",
    "    for i in recommended_movies_list:\n",
    "        print(top_recommendations.iloc[i[0]].movie_title)"
   ]
  },
  {
   "cell_type": "code",
   "execution_count": 490,
   "id": "0a6a5c08-67e4-4ef7-a5c0-3d8a25bea05a",
   "metadata": {},
   "outputs": [],
   "source": [
    "import pickle\n",
    "\n",
    "pickle.dump(top_recommendations,open('Top_Recommendations.pkl','wb'))\n",
    "pickle.dump(similarity,open('similarity.pkl','wb'))"
   ]
  },
  {
   "cell_type": "markdown",
   "id": "3e658f60-6fbc-47ca-8dbb-96b8a452f686",
   "metadata": {},
   "source": [
    "##### &nbsp;&nbsp;&nbsp;-------------------------------------- THIS SECTION IS DONE -------------------------------------\n"
   ]
  },
  {
   "cell_type": "markdown",
   "id": "4e6ed9c7-f181-4b9a-9759-c14d7cb8c0b4",
   "metadata": {},
   "source": [
    "### Working on the 'Director's Top' Section"
   ]
  },
  {
   "cell_type": "markdown",
   "id": "9745d285-22f8-4bdc-b2e5-4c2933cae2e7",
   "metadata": {},
   "source": [
    "![Director's Top](Directors_Top.png)"
   ]
  },
  {
   "cell_type": "code",
   "execution_count": 494,
   "id": "62186ad2-bb7c-44aa-a827-2fbd75c79b3b",
   "metadata": {},
   "outputs": [],
   "source": [
    "def dir_recommend(movie):\n",
    "    # Normalize input and movie titles to lowercase and strip whitespace\n",
    "    movie = movie.strip().lower()\n",
    "    movie_titles = top_recommendations['movie_title'].str.strip().str.lower()\n",
    "    \n",
    "    if movie not in movie_titles.values:\n",
    "        print(\"Movie not found in dataset. Please try another one.\")\n",
    "        return\n",
    "\n",
    "    # Get the correct index using normalized comparison\n",
    "    movie_index = movie_titles[movie_titles == movie].index[0]\n",
    "    \n",
    "    # Get the selected movie's details\n",
    "    movie_info = top_recommendations.loc[movie_index]\n",
    "    \n",
    "    # Get similarity scores for this movie\n",
    "    similarity_index = similarity[movie_index]\n",
    "    \n",
    "    # Get movies sorted by similarity score (excluding the movie itself)\n",
    "    recommended_movies_list = sorted(\n",
    "        list(enumerate(similarity_index)),\n",
    "        reverse=True,\n",
    "        key=lambda x: x[1]\n",
    "    )\n",
    "\n",
    "    # Filter for movies with the same director\n",
    "    dir_top_list = []\n",
    "    for i in recommended_movies_list:\n",
    "        idx = i[0]\n",
    "        if idx != movie_index and top_recommendations.iloc[idx]['director_name'] == movie_info['director_name'] and top_recommendations.iloc[idx]['movie_title'] != movie_info['movie_title']:\n",
    "            dir_top_list.append(top_recommendations.iloc[idx]['movie_title'])\n",
    "        if len(dir_top_list) >= 6:\n",
    "            break\n",
    "\n",
    "    # Display the recommended movies\n",
    "    if dir_top_list:\n",
    "        print(\"Top movies by the same director:\")\n",
    "        for title in dir_top_list:\n",
    "            print(title)\n",
    "    else:\n",
    "        print(\"No other movies by the same director found in recommendations.\")\n"
   ]
  },
  {
   "cell_type": "code",
   "execution_count": 495,
   "id": "68f6d5f5-bd4a-4dcf-8533-fa9f9eb51056",
   "metadata": {},
   "outputs": [
    {
     "name": "stdin",
     "output_type": "stream",
     "text": [
      "Enter the movie you like Inception\n"
     ]
    },
    {
     "name": "stdout",
     "output_type": "stream",
     "text": [
      "Top movies by the same director:\n",
      "Interstellar \n",
      "The Prestige \n",
      "The Dark Knight \n",
      "Insomnia \n",
      "The Dark Knight Rises \n",
      "Batman Begins \n"
     ]
    }
   ],
   "source": [
    "movie = input(\"Enter the movie you like\")\n",
    "dir_recommend(movie)"
   ]
  },
  {
   "cell_type": "markdown",
   "id": "f2fb056e-27d7-41ca-affc-a3f59f196b37",
   "metadata": {},
   "source": [
    "##### &nbsp;&nbsp;&nbsp;-------------------------------------- THIS SECTION IS DONE -------------------------------------\n"
   ]
  },
  {
   "cell_type": "markdown",
   "id": "5a407703-c1c6-4be8-a9fd-4ed8fd432e8a",
   "metadata": {},
   "source": [
    "### Working on the 'Actor's Top' Section"
   ]
  },
  {
   "cell_type": "markdown",
   "id": "4bb6df66-ab58-4c84-bf66-c13b65443c31",
   "metadata": {},
   "source": [
    "![Actor's Top](Actors_Top.png)"
   ]
  },
  {
   "cell_type": "code",
   "execution_count": 499,
   "id": "e7ad5581-93d6-44ad-9506-35d56003fc65",
   "metadata": {},
   "outputs": [],
   "source": [
    "def act_recommend(movie):\n",
    "    # Normalize input and movie titles to lowercase and strip whitespace\n",
    "    movie = movie.strip().lower()\n",
    "    movie_titles = top_recommendations['movie_title'].str.strip().str.lower()\n",
    "    \n",
    "    if movie not in movie_titles.values:\n",
    "        print(\"Movie not found in dataset. Please try another one.\")\n",
    "        return\n",
    "\n",
    "    # Get the correct index using normalized comparison\n",
    "    movie_index = movie_titles[movie_titles == movie].index[0]\n",
    "    \n",
    "    # Get the selected movie's details\n",
    "    movie_info = top_recommendations.loc[movie_index]\n",
    "    \n",
    "    # Get similarity scores for this movie\n",
    "    similarity_index = similarity[movie_index]\n",
    "    \n",
    "    # Get movies sorted by similarity score (excluding the movie itself)\n",
    "    recommended_movies_list = sorted(\n",
    "        list(enumerate(similarity_index)),\n",
    "        reverse=True,\n",
    "        key=lambda x: x[1]\n",
    "    )\n",
    "\n",
    "    # Filter for movies with the same director\n",
    "    act_top_list = []\n",
    "    for i in recommended_movies_list:\n",
    "        idx = i[0]\n",
    "        if idx != movie_index and top_recommendations.iloc[idx]['actor_1_name'] == movie_info['actor_1_name'] and top_recommendations.iloc[idx]['movie_title'] != movie_info['movie_title']:\n",
    "            act_top_list.append(top_recommendations.iloc[idx]['movie_title'])\n",
    "        if len(act_top_list) >= 6:\n",
    "            break\n",
    "\n",
    "    # Display the recommended movies\n",
    "    if act_top_list:\n",
    "        print(\"Top movies by the same actor:\")\n",
    "        for title in act_top_list:\n",
    "            print(title)\n",
    "    else:\n",
    "        print(\"No other movies by the same director found in recommendations.\")\n"
   ]
  },
  {
   "cell_type": "code",
   "execution_count": 500,
   "id": "2daf9922-3a80-4ca0-a294-e06858542c18",
   "metadata": {},
   "outputs": [
    {
     "name": "stdin",
     "output_type": "stream",
     "text": [
      "Enter the movie: Inception\n"
     ]
    },
    {
     "name": "stdout",
     "output_type": "stream",
     "text": [
      "Top movies by the same actor:\n",
      "Revolutionary Road \n",
      "Titanic \n",
      "Romeo + Juliet \n",
      "The Great Gatsby \n",
      "The Great Gatsby \n",
      "J. Edgar \n"
     ]
    }
   ],
   "source": [
    "movie = input(\"Enter the movie:\")\n",
    "act_recommend(movie)"
   ]
  }
 ],
 "metadata": {
  "kernelspec": {
   "display_name": "Python [conda env:base] *",
   "language": "python",
   "name": "conda-base-py"
  },
  "language_info": {
   "codemirror_mode": {
    "name": "ipython",
    "version": 3
   },
   "file_extension": ".py",
   "mimetype": "text/x-python",
   "name": "python",
   "nbconvert_exporter": "python",
   "pygments_lexer": "ipython3",
   "version": "3.12.7"
  }
 },
 "nbformat": 4,
 "nbformat_minor": 5
}
